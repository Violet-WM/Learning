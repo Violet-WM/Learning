{
 "cells": [
  {
   "cell_type": "code",
   "execution_count": 13,
   "id": "6daff4c6-b221-4c44-a339-82c1c9e66648",
   "metadata": {},
   "outputs": [],
   "source": [
    "def printMe(msg='No message was supplied'):\n",
    "    \"\"\"This function prints a msg supplied by the caller\n",
    "        In case no message is supplied from the caller,it prints \"No msg was supplied\" \"\"\"\n",
    "    print(msg)"
   ]
  },
  {
   "cell_type": "code",
   "execution_count": 14,
   "id": "fc1bfc33-c8bc-4a3c-b630-1b781029ece6",
   "metadata": {},
   "outputs": [
    {
     "name": "stdout",
     "output_type": "stream",
     "text": [
      "My name is Violet\n"
     ]
    }
   ],
   "source": [
    "printMe(\"My name is Violet\")"
   ]
  },
  {
   "cell_type": "code",
   "execution_count": 15,
   "id": "69a6a439-e113-44ce-b43a-5f20f0221a62",
   "metadata": {},
   "outputs": [],
   "source": [
    "def printList(L=[]):\n",
    "    \"\"\"This function prints the list elements\n",
    "        The input is a list and default is an empty list\"\"\"\n",
    "    for x in L:\n",
    "        print(x)"
   ]
  },
  {
   "cell_type": "code",
   "execution_count": 16,
   "id": "92dee375-67f3-4bbc-915b-024929982998",
   "metadata": {},
   "outputs": [
    {
     "name": "stdout",
     "output_type": "stream",
     "text": [
      "1\n",
      "2\n",
      "3\n",
      "5\n"
     ]
    }
   ],
   "source": [
    "printList([1,2,3,5])"
   ]
  },
  {
   "cell_type": "code",
   "execution_count": 17,
   "id": "6759173a-c39c-4d71-b3fc-bf217dbafe3e",
   "metadata": {},
   "outputs": [
    {
     "name": "stdout",
     "output_type": "stream",
     "text": [
      "Help on function printList in module __main__:\n",
      "\n",
      "printList(L=[])\n",
      "    This function prints the list elements\n",
      "    The input is a list and default is an empty list\n",
      "\n"
     ]
    }
   ],
   "source": [
    "help(printList)"
   ]
  },
  {
   "cell_type": "code",
   "execution_count": 12,
   "id": "0f12ce98-ad30-40a9-ae3c-f1bc89e42371",
   "metadata": {},
   "outputs": [
    {
     "name": "stdout",
     "output_type": "stream",
     "text": [
      "Help on function printMe in module __main__:\n",
      "\n",
      "printMe(msg='No message was supplied')\n",
      "    This function prints a msg supplied by the caller\n",
      "    In case no message is supplied from the caller,it prints \"No msg was supplied\"\n",
      "\n"
     ]
    }
   ],
   "source": [
    "help(printMe)"
   ]
  },
  {
   "cell_type": "code",
   "execution_count": null,
   "id": "3f7efc6b-45ca-4140-87fa-0cbbb6d5e0d9",
   "metadata": {},
   "outputs": [],
   "source": []
  }
 ],
 "metadata": {
  "kernelspec": {
   "display_name": "Python 3 (ipykernel)",
   "language": "python",
   "name": "python3"
  },
  "language_info": {
   "codemirror_mode": {
    "name": "ipython",
    "version": 3
   },
   "file_extension": ".py",
   "mimetype": "text/x-python",
   "name": "python",
   "nbconvert_exporter": "python",
   "pygments_lexer": "ipython3",
   "version": "3.11.4"
  }
 },
 "nbformat": 4,
 "nbformat_minor": 5
}
