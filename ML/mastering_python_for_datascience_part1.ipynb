{
 "cells": [
  {
   "cell_type": "markdown",
   "id": "ecc0bc9e-bb6c-4e31-8a89-f74c65258558",
   "metadata": {},
   "source": [
    "# Variables and operators"
   ]
  },
  {
   "cell_type": "code",
   "execution_count": 1,
   "id": "fc230b96-5152-40d4-99ae-a36064e6368c",
   "metadata": {},
   "outputs": [],
   "source": [
    "x=2"
   ]
  },
  {
   "cell_type": "code",
   "execution_count": 2,
   "id": "e6d05c72-5309-406e-8464-29ff2ab591e1",
   "metadata": {},
   "outputs": [
    {
     "name": "stdout",
     "output_type": "stream",
     "text": [
      "2\n"
     ]
    }
   ],
   "source": [
    "print(x)"
   ]
  },
  {
   "cell_type": "code",
   "execution_count": 3,
   "id": "20e3decc-93c2-4ccb-9f79-4c0c9da333af",
   "metadata": {},
   "outputs": [
    {
     "data": {
      "text/plain": [
       "int"
      ]
     },
     "execution_count": 3,
     "metadata": {},
     "output_type": "execute_result"
    }
   ],
   "source": [
    "type(x)"
   ]
  },
  {
   "cell_type": "code",
   "execution_count": 4,
   "id": "464f2235-d6f7-463b-8577-18be369e165a",
   "metadata": {},
   "outputs": [],
   "source": [
    "y=5\n",
    "z=0.5\n",
    "w=6.0"
   ]
  },
  {
   "cell_type": "code",
   "execution_count": 5,
   "id": "ffad96de-f1b4-47ce-bb8c-53e4b45872ad",
   "metadata": {},
   "outputs": [
    {
     "name": "stdout",
     "output_type": "stream",
     "text": [
      "<class 'int'> <class 'float'> <class 'float'>\n"
     ]
    }
   ],
   "source": [
    "print(type(y),type(z),type(w))"
   ]
  },
  {
   "cell_type": "code",
   "execution_count": 6,
   "id": "74687fa7-4ca2-4f66-b99b-024dc8e8e012",
   "metadata": {},
   "outputs": [],
   "source": [
    "a,b,c = 1,5,9"
   ]
  },
  {
   "cell_type": "code",
   "execution_count": 7,
   "id": "5b10a3c2-6c7e-4d6f-85be-44f964ee5d11",
   "metadata": {},
   "outputs": [
    {
     "name": "stdout",
     "output_type": "stream",
     "text": [
      "5\n"
     ]
    }
   ],
   "source": [
    "print(b)"
   ]
  },
  {
   "cell_type": "code",
   "execution_count": 10,
   "id": "fcbfff2b-583c-4d70-88c5-752aba7a4aad",
   "metadata": {},
   "outputs": [
    {
     "name": "stdout",
     "output_type": "stream",
     "text": [
      "No variables match your requested type.\n"
     ]
    }
   ],
   "source": [
    "%whos #displays all the variables stored in the memory"
   ]
  },
  {
   "cell_type": "code",
   "execution_count": 11,
   "id": "e1461dea-e42b-4c23-98bc-8beaa7d1b30b",
   "metadata": {},
   "outputs": [],
   "source": [
    "d = 5\n",
    "e = [1, 2, 3]\n",
    "f = \"Hello\""
   ]
  },
  {
   "cell_type": "code",
   "execution_count": 12,
   "id": "017f220b-5275-4dd4-b424-d8dcaca1c4aa",
   "metadata": {},
   "outputs": [
    {
     "name": "stdout",
     "output_type": "stream",
     "text": [
      "Variable   Type     Data/Info\n",
      "-----------------------------\n",
      "a          int      1\n",
      "b          int      5\n",
      "c          int      9\n",
      "d          int      5\n",
      "e          list     n=3\n",
      "f          str      Hello\n",
      "w          float    6.0\n",
      "x          int      2\n",
      "y          int      5\n",
      "z          float    0.5\n"
     ]
    }
   ],
   "source": [
    "%whos"
   ]
  },
  {
   "cell_type": "markdown",
   "id": "ed09d12e-d971-4206-b3c4-2e27233133a1",
   "metadata": {},
   "source": [
    "#Boolean"
   ]
  },
  {
   "cell_type": "code",
   "execution_count": 13,
   "id": "4d0bcbb4-5a7b-4518-a862-109069cef9bd",
   "metadata": {},
   "outputs": [
    {
     "data": {
      "text/plain": [
       "True"
      ]
     },
     "execution_count": 13,
     "metadata": {},
     "output_type": "execute_result"
    }
   ],
   "source": [
    "True and True"
   ]
  },
  {
   "cell_type": "code",
   "execution_count": 14,
   "id": "d02c0e26-84b8-47d6-b3ae-4b60b1215b42",
   "metadata": {},
   "outputs": [
    {
     "data": {
      "text/plain": [
       "False"
      ]
     },
     "execution_count": 14,
     "metadata": {},
     "output_type": "execute_result"
    }
   ],
   "source": [
    "True and False"
   ]
  },
  {
   "cell_type": "code",
   "execution_count": 15,
   "id": "5393c89d-7353-45c1-ae63-28cc7a144a94",
   "metadata": {},
   "outputs": [
    {
     "data": {
      "text/plain": [
       "False"
      ]
     },
     "execution_count": 15,
     "metadata": {},
     "output_type": "execute_result"
    }
   ],
   "source": [
    "False and False"
   ]
  },
  {
   "cell_type": "code",
   "execution_count": 16,
   "id": "14a02cef-c201-4eb6-af64-94758a3c1ad0",
   "metadata": {},
   "outputs": [
    {
     "data": {
      "text/plain": [
       "True"
      ]
     },
     "execution_count": 16,
     "metadata": {},
     "output_type": "execute_result"
    }
   ],
   "source": [
    "2 != 3"
   ]
  },
  {
   "cell_type": "code",
   "execution_count": 17,
   "id": "39d09af6-80a6-4100-a24f-b8d6b271d02e",
   "metadata": {},
   "outputs": [
    {
     "data": {
      "text/plain": [
       "False"
      ]
     },
     "execution_count": 17,
     "metadata": {},
     "output_type": "execute_result"
    }
   ],
   "source": [
    "2>3"
   ]
  },
  {
   "cell_type": "code",
   "execution_count": 19,
   "id": "69252bf6-a5d7-4dd0-9f79-8b1938a37c1e",
   "metadata": {},
   "outputs": [
    {
     "data": {
      "text/plain": [
       "False"
      ]
     },
     "execution_count": 19,
     "metadata": {},
     "output_type": "execute_result"
    }
   ],
   "source": [
    "(2 != 3) and (5 > 8)"
   ]
  },
  {
   "cell_type": "code",
   "execution_count": 21,
   "id": "a3ff2567-81f7-43f8-921c-8f296d0d7541",
   "metadata": {},
   "outputs": [
    {
     "name": "stdin",
     "output_type": "stream",
     "text": [
      "Enter a number :  35\n"
     ]
    },
    {
     "name": "stdout",
     "output_type": "stream",
     "text": [
      "Not less than 20\n"
     ]
    }
   ],
   "source": [
    "a = (int(input(\"Enter a number : \")))\n",
    "if a < 20 :\n",
    "    print(\"Less than 20\")\n",
    "else:\n",
    "    print(\"Not less than 20\")"
   ]
  },
  {
   "cell_type": "markdown",
   "id": "241bee13-8cd8-4eb4-9e89-1191acb9f984",
   "metadata": {},
   "source": [
    "# Function for rounding off"
   ]
  },
  {
   "cell_type": "code",
   "execution_count": 22,
   "id": "9e1d44c7-a0e9-4ae1-9d93-fbc0683f573e",
   "metadata": {},
   "outputs": [
    {
     "data": {
      "text/plain": [
       "2"
      ]
     },
     "execution_count": 22,
     "metadata": {},
     "output_type": "execute_result"
    }
   ],
   "source": [
    "round(2.4)"
   ]
  },
  {
   "cell_type": "code",
   "execution_count": 23,
   "id": "a7596479-9833-4e4d-bce4-ffda780c232e",
   "metadata": {},
   "outputs": [
    {
     "data": {
      "text/plain": [
       "2"
      ]
     },
     "execution_count": 23,
     "metadata": {},
     "output_type": "execute_result"
    }
   ],
   "source": [
    "round(2.5)"
   ]
  },
  {
   "cell_type": "code",
   "execution_count": 24,
   "id": "ebb91a06-da36-4a26-84ae-501e76d87510",
   "metadata": {},
   "outputs": [
    {
     "data": {
      "text/plain": [
       "3"
      ]
     },
     "execution_count": 24,
     "metadata": {},
     "output_type": "execute_result"
    }
   ],
   "source": [
    "round (2.51)"
   ]
  },
  {
   "cell_type": "code",
   "execution_count": 25,
   "id": "0a993ad9-e40f-4a40-9929-13158c9a5bdb",
   "metadata": {},
   "outputs": [
    {
     "data": {
      "text/plain": [
       "3.445"
      ]
     },
     "execution_count": 25,
     "metadata": {},
     "output_type": "execute_result"
    }
   ],
   "source": [
    "round(3.4445678, 3) #rounds off to 3dp"
   ]
  },
  {
   "cell_type": "markdown",
   "id": "0780f901-9996-4e83-aca2-4126b3c4ae29",
   "metadata": {},
   "source": [
    "# Outputs the quotient and it's remainder in a tuple"
   ]
  },
  {
   "cell_type": "code",
   "execution_count": 26,
   "id": "108fdf37-7fc5-4d01-863f-4ced38430af7",
   "metadata": {},
   "outputs": [
    {
     "data": {
      "text/plain": [
       "(5, 2)"
      ]
     },
     "execution_count": 26,
     "metadata": {},
     "output_type": "execute_result"
    }
   ],
   "source": [
    "divmod(27,5)"
   ]
  },
  {
   "cell_type": "code",
   "execution_count": 28,
   "id": "971ce835-8c5c-438d-9eff-d316a260708d",
   "metadata": {},
   "outputs": [
    {
     "data": {
      "text/plain": [
       "True"
      ]
     },
     "execution_count": 28,
     "metadata": {},
     "output_type": "execute_result"
    }
   ],
   "source": [
    "isinstance(2, int) #returns true if the element is an instance of the class specified"
   ]
  },
  {
   "cell_type": "code",
   "execution_count": 29,
   "id": "01ec8880-17cc-4e48-b092-043d531a3c30",
   "metadata": {},
   "outputs": [
    {
     "data": {
      "text/plain": [
       "False"
      ]
     },
     "execution_count": 29,
     "metadata": {},
     "output_type": "execute_result"
    }
   ],
   "source": [
    "isinstance(2.4, int)"
   ]
  },
  {
   "cell_type": "code",
   "execution_count": 31,
   "id": "9c0a1fc4-4034-4653-87a9-5af000bbd27c",
   "metadata": {},
   "outputs": [
    {
     "data": {
      "text/plain": [
       "16"
      ]
     },
     "execution_count": 31,
     "metadata": {},
     "output_type": "execute_result"
    }
   ],
   "source": [
    "pow(2,4) #performs 2 raise to the power of 4"
   ]
  },
  {
   "cell_type": "code",
   "execution_count": 32,
   "id": "d46e4a13-c808-411d-8c96-091a24e571ed",
   "metadata": {},
   "outputs": [
    {
     "data": {
      "text/plain": [
       "1"
      ]
     },
     "execution_count": 32,
     "metadata": {},
     "output_type": "execute_result"
    }
   ],
   "source": [
    "pow(2, 4, 3) #performs 2 raise to the power of 4 the  it's remainder by 3"
   ]
  },
  {
   "cell_type": "code",
   "execution_count": 38,
   "id": "eb0b07d3-618c-46c9-9a24-c21f6c67d0d2",
   "metadata": {},
   "outputs": [
    {
     "name": "stdout",
     "output_type": "stream",
     "text": [
      "Want to know me?\n"
     ]
    }
   ],
   "source": [
    "s = \"Want to know me?\"\n",
    "print(s)"
   ]
  },
  {
   "cell_type": "code",
   "execution_count": 35,
   "id": "a96f78f8-cdb7-4de5-be4e-94043f9251ec",
   "metadata": {},
   "outputs": [
    {
     "data": {
      "text/plain": [
       "str"
      ]
     },
     "execution_count": 35,
     "metadata": {},
     "output_type": "execute_result"
    }
   ],
   "source": [
    "type(s)"
   ]
  },
  {
   "cell_type": "code",
   "execution_count": 36,
   "id": "8fd404cd-be42-446a-875a-e28015b1cb73",
   "metadata": {},
   "outputs": [
    {
     "name": "stdout",
     "output_type": "stream",
     "text": [
      "My name is Violet.\n",
      "I am doing an attachment at DSAIL.\n",
      "So far I am learning a lot\n"
     ]
    }
   ],
   "source": [
    "#I want to print a multiline string\n",
    "t = \"\"\"My name is Violet.\n",
    "I am doing an attachment at DSAIL.\n",
    "So far I am learning a lot\"\"\"\n",
    "\n",
    "print(t)"
   ]
  },
  {
   "cell_type": "code",
   "execution_count": 37,
   "id": "82695fbd-a5da-4172-bff9-6f6382af0c84",
   "metadata": {},
   "outputs": [
    {
     "data": {
      "text/plain": [
       "str"
      ]
     },
     "execution_count": 37,
     "metadata": {},
     "output_type": "execute_result"
    }
   ],
   "source": [
    "type(t)"
   ]
  },
  {
   "cell_type": "code",
   "execution_count": 42,
   "id": "4cdacd49-5f5b-470b-bf2b-46ff82068358",
   "metadata": {},
   "outputs": [
    {
     "name": "stdout",
     "output_type": "stream",
     "text": [
      "Want to know me?.....My name is Violet.\n",
      "I am doing an attachment at DSAIL.\n",
      "So far I am learning a lot\n"
     ]
    }
   ],
   "source": [
    "print(s + \".....\" +t)"
   ]
  },
  {
   "cell_type": "code",
   "execution_count": 43,
   "id": "8a4a5542-6dda-429b-8744-162d0e8dcd9f",
   "metadata": {},
   "outputs": [],
   "source": [
    "v = \"What is your name?\""
   ]
  },
  {
   "cell_type": "code",
   "execution_count": 52,
   "id": "737f8e72-ead0-44cc-8c13-a2a9bf36fd55",
   "metadata": {},
   "outputs": [
    {
     "name": "stdout",
     "output_type": "stream",
     "text": [
      " \n"
     ]
    }
   ],
   "source": [
    "print(v[7])"
   ]
  },
  {
   "cell_type": "code",
   "execution_count": 56,
   "id": "a9ae2c9b-d808-4d04-9fae-66798ce08bc7",
   "metadata": {},
   "outputs": [
    {
     "name": "stdout",
     "output_type": "stream",
     "text": [
      "at is y\n"
     ]
    }
   ],
   "source": [
    "print(v[2:9]) #does not include the element in index 9"
   ]
  },
  {
   "cell_type": "code",
   "execution_count": 57,
   "id": "7e05b357-d82d-4e63-9f73-22c142449d74",
   "metadata": {},
   "outputs": [
    {
     "name": "stdout",
     "output_type": "stream",
     "text": [
      "?\n"
     ]
    }
   ],
   "source": [
    "print(v[-1])"
   ]
  },
  {
   "cell_type": "code",
   "execution_count": 60,
   "id": "9cd187e2-5b88-49e4-8880-f7f1a79480ca",
   "metadata": {},
   "outputs": [],
   "source": [
    "s2 = v[3:9]"
   ]
  },
  {
   "cell_type": "code",
   "execution_count": 62,
   "id": "390bb363-0029-4327-a8e6-da28933a5bfe",
   "metadata": {},
   "outputs": [
    {
     "name": "stdout",
     "output_type": "stream",
     "text": [
      "t is y\n"
     ]
    }
   ],
   "source": [
    "print (s2)"
   ]
  },
  {
   "cell_type": "markdown",
   "id": "4e788751-880c-4227-b6a4-7a8a922bfbfc",
   "metadata": {},
   "source": [
    "# Takes in an input"
   ]
  },
  {
   "cell_type": "code",
   "execution_count": 64,
   "id": "531b998c-f255-4015-a193-ba8cb297a68c",
   "metadata": {},
   "outputs": [
    {
     "name": "stdin",
     "output_type": "stream",
     "text": [
      "What is your name?  Violet Muiruri\n"
     ]
    },
    {
     "name": "stdout",
     "output_type": "stream",
     "text": [
      "Hello Violet Muiruri\n"
     ]
    }
   ],
   "source": [
    "name = input(\"What is your name? \")\n",
    "print (\"Hello \" + name)"
   ]
  },
  {
   "cell_type": "code",
   "execution_count": 67,
   "id": "b19de3d3-4cb3-4abd-b29c-f8f62346d79a",
   "metadata": {},
   "outputs": [
    {
     "data": {
      "text/plain": [
       "'I want to test how the .strip function works'"
      ]
     },
     "execution_count": 67,
     "metadata": {},
     "output_type": "execute_result"
    }
   ],
   "source": [
    "\"    I want to test how the .strip function works    \".strip()  #this function removes the white spaces in the sentence"
   ]
  },
  {
   "cell_type": "code",
   "execution_count": 68,
   "id": "6b121b83-ce1d-489c-a6a7-618493212079",
   "metadata": {},
   "outputs": [
    {
     "data": {
      "text/plain": [
       "'this string outputs all elements of the string as lowercase'"
      ]
     },
     "execution_count": 68,
     "metadata": {},
     "output_type": "execute_result"
    }
   ],
   "source": [
    "\"This String Outputs All Elements Of The String As LowerCase\".lower()"
   ]
  },
  {
   "cell_type": "code",
   "execution_count": 69,
   "id": "7c5abf28-7552-4d44-92c4-80e14b2b001a",
   "metadata": {},
   "outputs": [
    {
     "data": {
      "text/plain": [
       "'THIS STRING OUTPUTS ALL ELEMENTS OF THE STRING AS LOWERCASE'"
      ]
     },
     "execution_count": 69,
     "metadata": {},
     "output_type": "execute_result"
    }
   ],
   "source": [
    "\"This String Outputs All Elements Of The String As LowerCase\".upper()"
   ]
  },
  {
   "cell_type": "code",
   "execution_count": 72,
   "id": "cd1aa17c-764c-49ff-b2db-3cd85511cec6",
   "metadata": {},
   "outputs": [
    {
     "name": "stdout",
     "output_type": "stream",
     "text": [
      "['Apples', 'Lemons', 'Mangoes', 'Bananas']\n"
     ]
    }
   ],
   "source": [
    "M = \"Apples,Lemons,Mangoes,Bananas\".split(\",\")\n",
    "print(M)"
   ]
  },
  {
   "cell_type": "code",
   "execution_count": 73,
   "id": "93986d11-af08-4221-b459-75f4db65745d",
   "metadata": {},
   "outputs": [
    {
     "data": {
      "text/plain": [
       "'Bananas'"
      ]
     },
     "execution_count": 73,
     "metadata": {},
     "output_type": "execute_result"
    }
   ],
   "source": [
    "M[3]"
   ]
  },
  {
   "cell_type": "code",
   "execution_count": 76,
   "id": "0604c1e4-bbc7-490d-8516-9541f3fb86fa",
   "metadata": {},
   "outputs": [
    {
     "data": {
      "text/plain": [
       "'Apples,Lemons,M@ngoes,B@n@n@s'"
      ]
     },
     "execution_count": 76,
     "metadata": {},
     "output_type": "execute_result"
    }
   ],
   "source": [
    "\"Apples,Lemons,Mangoes,Bananas\".replace(\"a\",\"@\")"
   ]
  },
  {
   "cell_type": "code",
   "execution_count": 77,
   "id": "b785c8ff-ee77-4cc5-aed1-8dabb5f11558",
   "metadata": {},
   "outputs": [
    {
     "data": {
      "text/plain": [
       "False"
      ]
     },
     "execution_count": 77,
     "metadata": {},
     "output_type": "execute_result"
    }
   ],
   "source": [
    "\"A\" in M"
   ]
  },
  {
   "cell_type": "code",
   "execution_count": 78,
   "id": "dd2c9eb4-960a-4b17-ae2c-18c2c315d392",
   "metadata": {},
   "outputs": [
    {
     "data": {
      "text/plain": [
       "False"
      ]
     },
     "execution_count": 78,
     "metadata": {},
     "output_type": "execute_result"
    }
   ],
   "source": [
    "\"pp\" in M"
   ]
  },
  {
   "cell_type": "code",
   "execution_count": 79,
   "id": "ff1661bf-cdb4-4b27-a7b0-9ec2fed4158d",
   "metadata": {},
   "outputs": [
    {
     "name": "stdout",
     "output_type": "stream",
     "text": [
      "['Apples', 'Lemons', 'Mangoes', 'Bananas']\n"
     ]
    }
   ],
   "source": [
    "print(M)"
   ]
  },
  {
   "cell_type": "code",
   "execution_count": 80,
   "id": "90f32a53-3f31-448c-bcbd-d19ef5965bf7",
   "metadata": {},
   "outputs": [
    {
     "data": {
      "text/plain": [
       "True"
      ]
     },
     "execution_count": 80,
     "metadata": {},
     "output_type": "execute_result"
    }
   ],
   "source": [
    "\"Apples\" in M"
   ]
  },
  {
   "cell_type": "code",
   "execution_count": 83,
   "id": "233f522c-e9d8-4662-807d-7617b8cc30ef",
   "metadata": {},
   "outputs": [
    {
     "name": "stdout",
     "output_type": "stream",
     "text": [
      "We are learning \"Strings\" here\n"
     ]
    }
   ],
   "source": [
    "print('We are learning \"Strings\" here')"
   ]
  },
  {
   "cell_type": "code",
   "execution_count": 84,
   "id": "28d3708b-c513-4263-8350-78ab4f442ca7",
   "metadata": {},
   "outputs": [
    {
     "name": "stdout",
     "output_type": "stream",
     "text": [
      "We are learning \"Strings\" here\n"
     ]
    }
   ],
   "source": [
    "print(\"We are learning \\\"Strings\\\" here\")"
   ]
  },
  {
   "cell_type": "code",
   "execution_count": 86,
   "id": "5aa6ce1b-2ac2-4205-9df8-8c97d5866896",
   "metadata": {},
   "outputs": [
    {
     "name": "stdout",
     "output_type": "stream",
     "text": [
      "c:\\drive\n",
      "ame\n"
     ]
    }
   ],
   "source": [
    "print(\"c:\\drive\\name\") #\\n means new line"
   ]
  },
  {
   "cell_type": "code",
   "execution_count": 88,
   "id": "a55291a6-65c7-47eb-aeb2-7cd3efe98fd6",
   "metadata": {},
   "outputs": [
    {
     "name": "stdout",
     "output_type": "stream",
     "text": [
      "c:\\drive\\name\n"
     ]
    }
   ],
   "source": [
    "print(r\"c:\\drive\\name\") #r means it should take it as raw(just as it is)...so it does not take \\n as new line"
   ]
  },
  {
   "cell_type": "markdown",
   "id": "011f996a-5e14-4360-9ec0-ddf4b16ebf53",
   "metadata": {},
   "source": [
    "## Lists"
   ]
  },
  {
   "cell_type": "code",
   "execution_count": 5,
   "id": "dca13940-af54-4d56-9388-351e5757d984",
   "metadata": {},
   "outputs": [],
   "source": [
    "L = [2002,\"Violet\", \"Wambui\", \"Muiruri\", 22, 4.2]"
   ]
  },
  {
   "cell_type": "code",
   "execution_count": 6,
   "id": "46ed270b-cc00-4029-af4d-fbcba861660c",
   "metadata": {},
   "outputs": [
    {
     "name": "stdout",
     "output_type": "stream",
     "text": [
      "[2002, 'Violet', 'Wambui', 'Muiruri', 22, 4.2]\n"
     ]
    }
   ],
   "source": [
    "print(L)"
   ]
  },
  {
   "cell_type": "code",
   "execution_count": 7,
   "id": "61f35ddb-5404-45ae-9d69-1cfb9d5c899c",
   "metadata": {},
   "outputs": [
    {
     "data": {
      "text/plain": [
       "list"
      ]
     },
     "execution_count": 7,
     "metadata": {},
     "output_type": "execute_result"
    }
   ],
   "source": [
    "type(L)"
   ]
  },
  {
   "cell_type": "code",
   "execution_count": 8,
   "id": "f72b79c4-ac7a-404b-b4c3-ed13e172537a",
   "metadata": {},
   "outputs": [
    {
     "data": {
      "text/plain": [
       "int"
      ]
     },
     "execution_count": 8,
     "metadata": {},
     "output_type": "execute_result"
    }
   ],
   "source": [
    "type(L[0])"
   ]
  },
  {
   "cell_type": "code",
   "execution_count": 9,
   "id": "5ad99450-815e-4457-8722-657e3d641153",
   "metadata": {},
   "outputs": [
    {
     "data": {
      "text/plain": [
       "str"
      ]
     },
     "execution_count": 9,
     "metadata": {},
     "output_type": "execute_result"
    }
   ],
   "source": [
    "type(L[3])"
   ]
  },
  {
   "cell_type": "code",
   "execution_count": 10,
   "id": "bb2cde18-1e79-4d3f-b820-c852c951e084",
   "metadata": {},
   "outputs": [
    {
     "data": {
      "text/plain": [
       "float"
      ]
     },
     "execution_count": 10,
     "metadata": {},
     "output_type": "execute_result"
    }
   ],
   "source": [
    "type(L[5])"
   ]
  },
  {
   "cell_type": "code",
   "execution_count": 11,
   "id": "c417383b-0b49-4c14-9aaa-ce42ac44eb79",
   "metadata": {},
   "outputs": [],
   "source": [
    "L = L+ [33] #Adds a new element 33 to the list"
   ]
  },
  {
   "cell_type": "code",
   "execution_count": 12,
   "id": "67955313-465d-44f7-b0bc-18a520e595dc",
   "metadata": {},
   "outputs": [
    {
     "data": {
      "text/plain": [
       "[2002, 'Violet', 'Wambui', 'Muiruri', 22, 4.2, 33]"
      ]
     },
     "execution_count": 12,
     "metadata": {},
     "output_type": "execute_result"
    }
   ],
   "source": [
    "L"
   ]
  },
  {
   "cell_type": "code",
   "execution_count": 13,
   "id": "36d85f6e-a174-46e4-a77a-f20c3a57f809",
   "metadata": {},
   "outputs": [],
   "source": [
    "L.append(21)"
   ]
  },
  {
   "cell_type": "code",
   "execution_count": 14,
   "id": "8f5adbdb-c008-4987-9a16-9dcc5811343a",
   "metadata": {},
   "outputs": [
    {
     "data": {
      "text/plain": [
       "[2002, 'Violet', 'Wambui', 'Muiruri', 22, 4.2, 33, 21]"
      ]
     },
     "execution_count": 14,
     "metadata": {},
     "output_type": "execute_result"
    }
   ],
   "source": [
    "L"
   ]
  },
  {
   "cell_type": "code",
   "execution_count": 15,
   "id": "81eb6466-c6f9-4912-a680-1d60a74b5a95",
   "metadata": {},
   "outputs": [],
   "source": [
    "del L[-2] # deletes an element from a list"
   ]
  },
  {
   "cell_type": "code",
   "execution_count": 16,
   "id": "0ccbb056-2e0b-4dd1-9c8d-b0811695cb5f",
   "metadata": {},
   "outputs": [
    {
     "data": {
      "text/plain": [
       "[2002, 'Violet', 'Wambui', 'Muiruri', 22, 4.2, 21]"
      ]
     },
     "execution_count": 16,
     "metadata": {},
     "output_type": "execute_result"
    }
   ],
   "source": [
    "L"
   ]
  },
  {
   "cell_type": "code",
   "execution_count": 17,
   "id": "f5802379-4378-4311-9c36-2301a07f609a",
   "metadata": {},
   "outputs": [],
   "source": [
    "#del L - deletes the entire list"
   ]
  },
  {
   "cell_type": "code",
   "execution_count": 18,
   "id": "f47bbdfd-f125-4a78-af2f-4c9af26dd062",
   "metadata": {},
   "outputs": [],
   "source": [
    "L2=L.copy()"
   ]
  },
  {
   "cell_type": "code",
   "execution_count": 20,
   "id": "086adb05-5ca4-4985-8a77-1d7585589e01",
   "metadata": {},
   "outputs": [
    {
     "name": "stdout",
     "output_type": "stream",
     "text": [
      "[2002, 'Violet', 'Wambui', 'Muiruri', 22, 4.2, 21]\n"
     ]
    }
   ],
   "source": [
    "print(L2) "
   ]
  },
  {
   "cell_type": "code",
   "execution_count": 21,
   "id": "7461e6cb-8914-4466-8208-0494939d3ed3",
   "metadata": {},
   "outputs": [],
   "source": [
    "del L[-2]"
   ]
  },
  {
   "cell_type": "code",
   "execution_count": 22,
   "id": "2082d7ec-a323-42bd-b463-ae0157d136a1",
   "metadata": {},
   "outputs": [
    {
     "name": "stdout",
     "output_type": "stream",
     "text": [
      "[2002, 'Violet', 'Wambui', 'Muiruri', 22, 21]\n",
      "[2002, 'Violet', 'Wambui', 'Muiruri', 22, 4.2, 21]\n"
     ]
    }
   ],
   "source": [
    "print(L)\n",
    "print(L2)"
   ]
  },
  {
   "cell_type": "markdown",
   "id": "babbc979-d79f-4a38-ae86-a36a85f18a20",
   "metadata": {},
   "source": [
    "## Tuples"
   ]
  },
  {
   "cell_type": "code",
   "execution_count": 2,
   "id": "01099937-13dc-4d17-930a-6307a47f572b",
   "metadata": {},
   "outputs": [
    {
     "name": "stdout",
     "output_type": "stream",
     "text": [
      "(2002, 'Violet', 'Wambui', 'Muiruri', 22, 4.2)\n"
     ]
    }
   ],
   "source": [
    "T = (2002, \"Violet\", \"Wambui\",\"Muiruri\", 22, 4.2)\n",
    "print(T)"
   ]
  },
  {
   "cell_type": "code",
   "execution_count": 3,
   "id": "992d8868-d63b-40c3-b819-2502aaf48b64",
   "metadata": {},
   "outputs": [
    {
     "data": {
      "text/plain": [
       "22"
      ]
     },
     "execution_count": 3,
     "metadata": {},
     "output_type": "execute_result"
    }
   ],
   "source": [
    "T[4]"
   ]
  },
  {
   "cell_type": "code",
   "execution_count": 4,
   "id": "f17bc9d4-6aa2-4df7-8b20-44119d77caa2",
   "metadata": {},
   "outputs": [
    {
     "data": {
      "text/plain": [
       "float"
      ]
     },
     "execution_count": 4,
     "metadata": {},
     "output_type": "execute_result"
    }
   ],
   "source": [
    "type (T[5])"
   ]
  },
  {
   "cell_type": "code",
   "execution_count": 2,
   "id": "d4fb4ff8-12a1-446b-847c-83c4b0122398",
   "metadata": {},
   "outputs": [],
   "source": [
    "#del T - deletes the entire tuple"
   ]
  },
  {
   "cell_type": "markdown",
   "id": "ef94378c-04b5-46ec-b367-83eea1548e6e",
   "metadata": {},
   "source": [
    "## Sets"
   ]
  },
  {
   "cell_type": "code",
   "execution_count": 36,
   "id": "dee87ed9-2d1d-488b-8662-f1d67e3ba580",
   "metadata": {},
   "outputs": [],
   "source": [
    "S = {1,3,5,7,9,\"Vio\",-11}"
   ]
  },
  {
   "cell_type": "code",
   "execution_count": 37,
   "id": "b3f47f0b-73dc-465b-93cb-753949f2911f",
   "metadata": {},
   "outputs": [
    {
     "data": {
      "text/plain": [
       "{-11, 1, 3, 5, 7, 9, 'Vio'}"
      ]
     },
     "execution_count": 37,
     "metadata": {},
     "output_type": "execute_result"
    }
   ],
   "source": [
    "S"
   ]
  },
  {
   "cell_type": "code",
   "execution_count": 38,
   "id": "aa43fd83-8152-4a56-88c2-0fc2230ee97d",
   "metadata": {},
   "outputs": [
    {
     "data": {
      "text/plain": [
       "False"
      ]
     },
     "execution_count": 38,
     "metadata": {},
     "output_type": "execute_result"
    }
   ],
   "source": [
    "2 in S #checking if a certain element is in the set"
   ]
  },
  {
   "cell_type": "code",
   "execution_count": 39,
   "id": "7d7ef43d-73f9-4bd4-8471-992a4ee04e4a",
   "metadata": {},
   "outputs": [],
   "source": [
    "S.add(44) #adds elements to a set"
   ]
  },
  {
   "cell_type": "code",
   "execution_count": 40,
   "id": "f38e0914-437c-4188-ac58-667f07256ff6",
   "metadata": {},
   "outputs": [
    {
     "data": {
      "text/plain": [
       "{-11, 1, 3, 44, 5, 7, 9, 'Vio'}"
      ]
     },
     "execution_count": 40,
     "metadata": {},
     "output_type": "execute_result"
    }
   ],
   "source": [
    "S"
   ]
  },
  {
   "cell_type": "code",
   "execution_count": 41,
   "id": "88fd958f-a013-4bff-84ca-bbdb16c83b25",
   "metadata": {},
   "outputs": [],
   "source": [
    "S.update({\"23\",\"name\"}) #adds multiple elements to a set"
   ]
  },
  {
   "cell_type": "code",
   "execution_count": 42,
   "id": "12b0dc58-4687-4d93-8742-6f2c31f1320b",
   "metadata": {},
   "outputs": [
    {
     "data": {
      "text/plain": [
       "{-11, 1, '23', 3, 44, 5, 7, 9, 'Vio', 'name'}"
      ]
     },
     "execution_count": 42,
     "metadata": {},
     "output_type": "execute_result"
    }
   ],
   "source": [
    "S"
   ]
  },
  {
   "cell_type": "code",
   "execution_count": 44,
   "id": "6234854a-1cc8-45fd-ab2b-3095589d3678",
   "metadata": {},
   "outputs": [],
   "source": [
    "S.remove(\"name\")"
   ]
  },
  {
   "cell_type": "code",
   "execution_count": 45,
   "id": "33797d91-b4ff-4aa8-904a-6251d5106cf9",
   "metadata": {},
   "outputs": [
    {
     "data": {
      "text/plain": [
       "{-11, 1, '23', 3, 44, 5, 7, 9, 'Vio'}"
      ]
     },
     "execution_count": 45,
     "metadata": {},
     "output_type": "execute_result"
    }
   ],
   "source": [
    "S"
   ]
  },
  {
   "cell_type": "code",
   "execution_count": 3,
   "id": "68644082-5938-45a8-8aab-dd1ccc1483a9",
   "metadata": {},
   "outputs": [],
   "source": [
    "#del S - deletes the entire set"
   ]
  },
  {
   "cell_type": "markdown",
   "id": "bbe8df99-f3ad-4390-b905-2941af2064f0",
   "metadata": {},
   "source": [
    "## Dictionaries"
   ]
  },
  {
   "cell_type": "code",
   "execution_count": 8,
   "id": "81cb9ca9-d829-4eee-9c74-a14786aad0a0",
   "metadata": {},
   "outputs": [],
   "source": [
    "D = {\"YOB\":2002, \"FN\":\"Violet\", \"SN\" :\"Wambui\", \"LN\":\"Muiruri\", \"Age\":22,\"Year of study\":4.2}"
   ]
  },
  {
   "cell_type": "code",
   "execution_count": 9,
   "id": "91e378ee-cc74-4157-b950-61865a153cd1",
   "metadata": {},
   "outputs": [
    {
     "data": {
      "text/plain": [
       "{'YOB': 2002,\n",
       " 'FN': 'Violet',\n",
       " 'SN': 'Wambui',\n",
       " 'LN': 'Muiruri',\n",
       " 'Age': 22,\n",
       " 'Year of study': 4.2}"
      ]
     },
     "execution_count": 9,
     "metadata": {},
     "output_type": "execute_result"
    }
   ],
   "source": [
    "D"
   ]
  },
  {
   "cell_type": "code",
   "execution_count": 10,
   "id": "576f82b3-028b-40cb-b4cd-b91827e77039",
   "metadata": {},
   "outputs": [
    {
     "data": {
      "text/plain": [
       "22"
      ]
     },
     "execution_count": 10,
     "metadata": {},
     "output_type": "execute_result"
    }
   ],
   "source": [
    "# You access a particular element in a dictionary using the key\n",
    "D[\"Age\"]"
   ]
  },
  {
   "cell_type": "code",
   "execution_count": 35,
   "id": "c5ba81da-6d86-4789-991e-73ed37389dfd",
   "metadata": {},
   "outputs": [],
   "source": [
    "D[\"Sch\"]=\"DKUT\""
   ]
  },
  {
   "cell_type": "code",
   "execution_count": 36,
   "id": "7141449f-2d83-4c07-900f-640ae467c3f9",
   "metadata": {},
   "outputs": [
    {
     "data": {
      "text/plain": [
       "{'YOB': 2002,\n",
       " 'FN': 'Violet',\n",
       " 'SN': 'Wambui',\n",
       " 'LN': 'Muiruri',\n",
       " 'Age': 22,\n",
       " 'Year of study': 4.2,\n",
       " 'Sch': 'DKUT'}"
      ]
     },
     "execution_count": 36,
     "metadata": {},
     "output_type": "execute_result"
    }
   ],
   "source": [
    "D"
   ]
  },
  {
   "cell_type": "code",
   "execution_count": 44,
   "id": "9df78262-9281-42bf-b081-b1133c1443a3",
   "metadata": {},
   "outputs": [],
   "source": [
    "del D[\"SN\"]"
   ]
  },
  {
   "cell_type": "code",
   "execution_count": 45,
   "id": "baa510a1-8e48-4f1d-93b6-ba88a0ad5c70",
   "metadata": {},
   "outputs": [
    {
     "data": {
      "text/plain": [
       "{'YOB': 2002,\n",
       " 'FN': 'Violet',\n",
       " 'LN': 'Muiruri',\n",
       " 'Age': 22,\n",
       " 'Year of study': 4.2,\n",
       " 'Sch': 'DKUT'}"
      ]
     },
     "execution_count": 45,
     "metadata": {},
     "output_type": "execute_result"
    }
   ],
   "source": [
    "D"
   ]
  },
  {
   "cell_type": "markdown",
   "id": "d34bb2c2-e821-4260-a42f-e094c5b4987c",
   "metadata": {},
   "source": [
    "## If Statements"
   ]
  },
  {
   "cell_type": "code",
   "execution_count": 25,
   "id": "3a6b94ff-6a32-4b00-b02d-bb3ac0a00609",
   "metadata": {},
   "outputs": [
    {
     "name": "stdout",
     "output_type": "stream",
     "text": [
      "A is less than B\n"
     ]
    }
   ],
   "source": [
    "a=1\n",
    "b=12\n",
    "if a>b:\n",
    "    print(\"A is greater than B\")\n",
    "elif a==b:\n",
    "    print(\"A is equal to B\")\n",
    "else:\n",
    "    print(\"A is less than B\")"
   ]
  },
  {
   "cell_type": "code",
   "execution_count": 27,
   "id": "4696794d-f80b-4c9e-9b93-60e9e8ff6526",
   "metadata": {},
   "outputs": [
    {
     "name": "stdin",
     "output_type": "stream",
     "text": [
      "Enter a Number:  32\n",
      "Enter another Number:  36\n"
     ]
    },
    {
     "name": "stdout",
     "output_type": "stream",
     "text": [
      "A is less than B\n"
     ]
    }
   ],
   "source": [
    "a = (input(\"Enter a Number: \"))\n",
    "b = (input(\"Enter another Number: \"))\n",
    "if a>b:\n",
    "    print(\"A is greater than B\")\n",
    "else:\n",
    "    print(\"A is less than B\")"
   ]
  },
  {
   "cell_type": "code",
   "execution_count": 29,
   "id": "e8fd1753-4fc8-4e7d-bb2e-c81733da6d67",
   "metadata": {},
   "outputs": [
    {
     "name": "stdout",
     "output_type": "stream",
     "text": [
      "Same\n"
     ]
    }
   ],
   "source": [
    "a=7\n",
    "b=7\n",
    "print(\"A\") if a>b else print(\"Same\") if a==b else print(\"B\")"
   ]
  },
  {
   "cell_type": "code",
   "execution_count": null,
   "id": "48b2a28a-73f8-43b4-8b91-5f2890b03c24",
   "metadata": {},
   "outputs": [],
   "source": []
  }
 ],
 "metadata": {
  "kernelspec": {
   "display_name": "Python 3 (ipykernel)",
   "language": "python",
   "name": "python3"
  },
  "language_info": {
   "codemirror_mode": {
    "name": "ipython",
    "version": 3
   },
   "file_extension": ".py",
   "mimetype": "text/x-python",
   "name": "python",
   "nbconvert_exporter": "python",
   "pygments_lexer": "ipython3",
   "version": "3.11.4"
  }
 },
 "nbformat": 4,
 "nbformat_minor": 5
}
