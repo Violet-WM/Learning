{
 "cells": [
  {
   "cell_type": "markdown",
   "id": "a979bb2e-44bb-4961-a4b6-527db9e1477e",
   "metadata": {},
   "source": [
    "## Nested if"
   ]
  },
  {
   "cell_type": "code",
   "execution_count": 5,
   "id": "86baa422-6a92-4836-bd4b-0b3fdb40ee2b",
   "metadata": {},
   "outputs": [
    {
     "name": "stdin",
     "output_type": "stream",
     "text": [
      "Enter a number:  12\n"
     ]
    },
    {
     "name": "stdout",
     "output_type": "stream",
     "text": [
      "x is greater than 10\n",
      "But not above 20\n"
     ]
    }
   ],
   "source": [
    "x = int(input(\"Enter a number: \"))\n",
    "if x>10:\n",
    "    print(\"x is greater than 10\")\n",
    "    if x>20:\n",
    "        print(\"x is also greater than 20\")\n",
    "    else:\n",
    "        print(\"But not above 20\")"
   ]
  },
  {
   "cell_type": "code",
   "execution_count": 33,
   "id": "cd8648bd-34e6-4994-b883-a173b280fdf4",
   "metadata": {},
   "outputs": [
    {
     "name": "stdin",
     "output_type": "stream",
     "text": [
      "Enter your marks : 88\n"
     ]
    },
    {
     "name": "stdout",
     "output_type": "stream",
     "text": [
      "Grade: A \n",
      "Excellent!Keep up\n"
     ]
    }
   ],
   "source": [
    "x = int(input(\"Enter your marks :\"))\n",
    "if 0<=x<=40:\n",
    "    print(\"Grade: E \\nPull up your socks\")\n",
    "elif (40<x<=50):\n",
    "        print(\"Grade: D \\nYou can do it!\")\n",
    "elif (50<x<=60):\n",
    "        print(\"Grade: C \\nYou can do it\")\n",
    "elif (60<x<=70):\n",
    "        print(\"Grade:B \\nAlmost there!Keep going!\")\n",
    "elif (70<x<=100):\n",
    "        print(\"Grade: A \\nExcellent!Keep up\")\n",
    "else:\n",
    "    print(\"Invalid!Please Try again\")        \n",
    "                "
   ]
  },
  {
   "cell_type": "markdown",
   "id": "a2ed2188-9383-44f4-848b-9c2faeee0701",
   "metadata": {},
   "source": [
    "## While loop"
   ]
  },
  {
   "cell_type": "code",
   "execution_count": 36,
   "id": "276a48d7-a119-43e1-b329-0c1f69c83610",
   "metadata": {},
   "outputs": [
    {
     "name": "stdin",
     "output_type": "stream",
     "text": [
      "Enter a number:  4\n"
     ]
    },
    {
     "name": "stdout",
     "output_type": "stream",
     "text": [
      "1\n",
      "I am inside the loop\n",
      "Done!!\n",
      "2\n",
      "I am inside the loop\n",
      "Done!!\n",
      "3\n",
      "I am inside the loop\n",
      "Done!!\n"
     ]
    }
   ],
   "source": [
    "n =int(input(\"Enter a number: \"))\n",
    "i=1\n",
    "while i<n:\n",
    "    print (i)\n",
    "    print(\"I am inside the loop\")\n",
    "    i+=1\n",
    "    print(\"Done!!\")"
   ]
  },
  {
   "cell_type": "code",
   "execution_count": 42,
   "id": "2ebe1f57-0592-4b48-8b28-c7638f9c51b4",
   "metadata": {},
   "outputs": [
    {
     "name": "stdin",
     "output_type": "stream",
     "text": [
      "Enter a number:  100\n"
     ]
    },
    {
     "name": "stdout",
     "output_type": "stream",
     "text": [
      "0\n"
     ]
    }
   ],
   "source": [
    "#Check if a number is even\n",
    "v=int(input(\"Enter a number: \"))\n",
    "print (v%2)"
   ]
  },
  {
   "cell_type": "markdown",
   "id": "29332ba3-e4c7-46bc-9934-80ca1f85739f",
   "metadata": {},
   "source": [
    "## While loop that returns only even numbers"
   ]
  },
  {
   "cell_type": "code",
   "execution_count": 52,
   "id": "9dad4156-b9d2-413a-8eb3-ac4e49a25cf1",
   "metadata": {},
   "outputs": [
    {
     "name": "stdin",
     "output_type": "stream",
     "text": [
      "Enter a number:  7\n"
     ]
    },
    {
     "name": "stdout",
     "output_type": "stream",
     "text": [
      "0\n",
      "2\n",
      "4\n",
      "6\n",
      "Done!\n"
     ]
    }
   ],
   "source": [
    "s=int(input(\"Enter a number: \"))\n",
    "r=0\n",
    "while r<s:\n",
    "    if r%2 == 0:\n",
    "        print (r)\n",
    "    else:\n",
    "        pass\n",
    "    r+=1\n",
    "print(\"Done!\")"
   ]
  },
  {
   "cell_type": "markdown",
   "id": "0e40d9b1-e704-44f6-a097-9c68e3299b0b",
   "metadata": {},
   "source": [
    "## Break and continue in loops"
   ]
  },
  {
   "cell_type": "code",
   "execution_count": 62,
   "id": "71438bd3-395b-4ae2-8858-0cdfe3d91ae5",
   "metadata": {},
   "outputs": [
    {
     "name": "stdin",
     "output_type": "stream",
     "text": [
      "Enter a number: 7\n"
     ]
    },
    {
     "name": "stdout",
     "output_type": "stream",
     "text": [
      "4\n",
      "Done!\n"
     ]
    }
   ],
   "source": [
    "n=int(input(\"Enter a number:\"))\n",
    "i=3\n",
    "while i<n:\n",
    "    if i%2 == 0:\n",
    "        print(i)\n",
    "        break #breaks the loop after an even number is found\n",
    "    i+=1\n",
    "    continue #skips to the next iteration\n",
    "    print(\"I am forgotten\")\n",
    "print(\"Done!\")"
   ]
  },
  {
   "cell_type": "markdown",
   "id": "2720b681-6916-4305-8068-4b8f8a1baab3",
   "metadata": {},
   "source": [
    "## For Loop"
   ]
  },
  {
   "cell_type": "code",
   "execution_count": 70,
   "id": "31c4644a-5bc2-4e9d-8b90-91c61a867774",
   "metadata": {},
   "outputs": [
    {
     "name": "stdout",
     "output_type": "stream",
     "text": [
      "0\n",
      "1\n",
      "2\n",
      "3\n",
      "4\n",
      "Done\n"
     ]
    }
   ],
   "source": [
    "L = []\n",
    "for i in range (5):\n",
    "    print(i)\n",
    "    L.append(i**2) #list will contain elements that are squares of elements in the i range\n",
    "print(\"Done\")"
   ]
  },
  {
   "cell_type": "code",
   "execution_count": 71,
   "id": "9cb28e17-62c1-4164-a1e9-60986dec7908",
   "metadata": {},
   "outputs": [
    {
     "data": {
      "text/plain": [
       "[0, 1, 4, 9, 16]"
      ]
     },
     "execution_count": 71,
     "metadata": {},
     "output_type": "execute_result"
    }
   ],
   "source": [
    "L"
   ]
  },
  {
   "cell_type": "code",
   "execution_count": 76,
   "id": "31015c2d-22ea-4f13-8ff2-4f8fa72d8ce1",
   "metadata": {},
   "outputs": [
    {
     "name": "stdout",
     "output_type": "stream",
     "text": [
      "2002\n",
      "WM\n",
      "Violet\n",
      "22\n",
      "Done\n"
     ]
    }
   ],
   "source": [
    "S = {\"Violet\",\"WM\",22,2002}\n",
    "for x in S:\n",
    "    print(x)\n",
    "else:\n",
    "    print(\"Done\")"
   ]
  },
  {
   "cell_type": "code",
   "execution_count": 77,
   "id": "122c6e7d-b18d-4feb-991d-c19388263846",
   "metadata": {},
   "outputs": [
    {
     "data": {
      "text/plain": [
       "{2002, 22, 'Violet', 'WM'}"
      ]
     },
     "execution_count": 77,
     "metadata": {},
     "output_type": "execute_result"
    }
   ],
   "source": [
    "S"
   ]
  },
  {
   "cell_type": "code",
   "execution_count": 88,
   "id": "00659ca2-b03c-4c07-a88d-bd184930f799",
   "metadata": {},
   "outputs": [
    {
     "name": "stdout",
     "output_type": "stream",
     "text": [
      "Name:Violet\n",
      "Initials:WM\n",
      "Age:22\n",
      "YOB:2002\n"
     ]
    }
   ],
   "source": [
    "D = {\"Name\":\"Violet\",\"Initials\":\"WM\",\"Age\":22,\"YOB\":2002}\n",
    "for x in D:\n",
    "    result = x + \":\" + str(D[x])\n",
    "    print(result)\n",
    "    "
   ]
  },
  {
   "cell_type": "markdown",
   "id": "382c9a08-dd76-4ac5-995c-ea65afef7e70",
   "metadata": {},
   "source": [
    "## Functions"
   ]
  },
  {
   "cell_type": "code",
   "execution_count": 90,
   "id": "08e9416f-5cdd-41f3-b0d5-d857c3a39655",
   "metadata": {},
   "outputs": [],
   "source": [
    "def printSuccessMessage():\n",
    "    \"\"\"This is a docstring; it describes what the work of the function is\"\"\"\n",
    "    print(\"Successful\")"
   ]
  },
  {
   "cell_type": "code",
   "execution_count": 94,
   "id": "2b50ebe8-62d4-4be7-a3b6-12163ad9076d",
   "metadata": {},
   "outputs": [
    {
     "name": "stdout",
     "output_type": "stream",
     "text": [
      "Successful\n"
     ]
    }
   ],
   "source": [
    "printSuccessMessage()"
   ]
  },
  {
   "cell_type": "code",
   "execution_count": 95,
   "id": "73826144-5c31-4bdb-a6ef-8cb588be5e81",
   "metadata": {},
   "outputs": [
    {
     "data": {
      "text/plain": [
       "\u001b[1;31mSignature:\u001b[0m \u001b[0mprintSuccessMessage\u001b[0m\u001b[1;33m(\u001b[0m\u001b[1;33m)\u001b[0m\u001b[1;33m\u001b[0m\u001b[1;33m\u001b[0m\u001b[0m\n",
       "\u001b[1;31mDocstring:\u001b[0m This is a docstring; it describes what the work of the function is\n",
       "\u001b[1;31mFile:\u001b[0m      c:\\users\\violet\\appdata\\local\\temp\\ipykernel_12900\\3426253607.py\n",
       "\u001b[1;31mType:\u001b[0m      function"
      ]
     },
     "metadata": {},
     "output_type": "display_data"
    }
   ],
   "source": [
    "printSuccessMessage?"
   ]
  },
  {
   "cell_type": "code",
   "execution_count": 96,
   "id": "271a980d-8fd2-4845-8062-db3e35ed8872",
   "metadata": {},
   "outputs": [
    {
     "name": "stdout",
     "output_type": "stream",
     "text": [
      "Help on function printSuccessMessage in module __main__:\n",
      "\n",
      "printSuccessMessage()\n",
      "    This is a docstring; it describes what the work of the function is\n",
      "\n"
     ]
    }
   ],
   "source": [
    "help(printSuccessMessage)"
   ]
  },
  {
   "cell_type": "code",
   "execution_count": 102,
   "id": "9f40977d-0def-4b23-b623-af416a0ea7a6",
   "metadata": {},
   "outputs": [],
   "source": [
    "def printMe(Violet):\n",
    "    print(Violet)"
   ]
  },
  {
   "cell_type": "code",
   "execution_count": 103,
   "id": "88168b73-8504-4201-922d-305478f655d1",
   "metadata": {},
   "outputs": [
    {
     "name": "stdout",
     "output_type": "stream",
     "text": [
      "Wamzzz\n"
     ]
    }
   ],
   "source": [
    "printMe(\"Wamzzz\")"
   ]
  },
  {
   "cell_type": "code",
   "execution_count": 104,
   "id": "7ba50198-d8fe-4859-bc38-59ad4c8c469e",
   "metadata": {},
   "outputs": [],
   "source": [
    "def add(x,y):\n",
    "    print(x+y)"
   ]
  },
  {
   "cell_type": "code",
   "execution_count": 105,
   "id": "fab49bfe-57ed-4284-b3f5-5095fbd9abd0",
   "metadata": {},
   "outputs": [
    {
     "name": "stdout",
     "output_type": "stream",
     "text": [
      "9\n"
     ]
    }
   ],
   "source": [
    "add(4,5)"
   ]
  },
  {
   "cell_type": "code",
   "execution_count": 108,
   "id": "edb69ace-e5ac-4600-a5e6-b47bf0317d01",
   "metadata": {},
   "outputs": [],
   "source": [
    "def mul(a,b):\n",
    "    return a*b"
   ]
  },
  {
   "cell_type": "code",
   "execution_count": 109,
   "id": "7a78a875-be18-45cc-884f-10c61e64d278",
   "metadata": {},
   "outputs": [],
   "source": [
    "c = mul(4,5)"
   ]
  },
  {
   "cell_type": "code",
   "execution_count": 110,
   "id": "fa879c2f-5c3d-4d94-9f2e-7b6e60657cf9",
   "metadata": {},
   "outputs": [
    {
     "data": {
      "text/plain": [
       "20"
      ]
     },
     "execution_count": 110,
     "metadata": {},
     "output_type": "execute_result"
    }
   ],
   "source": [
    "c"
   ]
  },
  {
   "cell_type": "code",
   "execution_count": 114,
   "id": "0ad0650e-f5b1-4166-afa4-ca4018132d5b",
   "metadata": {},
   "outputs": [],
   "source": [
    "def AddAll(*args):\n",
    "    s = 0\n",
    "    for x in args:\n",
    "        s += x\n",
    "    return s"
   ]
  },
  {
   "cell_type": "code",
   "execution_count": 116,
   "id": "6985a127-12f4-4385-beca-dca798271a6a",
   "metadata": {},
   "outputs": [
    {
     "data": {
      "text/plain": [
       "25"
      ]
     },
     "execution_count": 116,
     "metadata": {},
     "output_type": "execute_result"
    }
   ],
   "source": [
    "AddAll(3,4,5,6,7)"
   ]
  },
  {
   "cell_type": "code",
   "execution_count": 117,
   "id": "169bcb5d-c4a3-48d0-b973-899b567326f8",
   "metadata": {},
   "outputs": [],
   "source": [
    "def f(**c):\n",
    "    for x in c:\n",
    "        print(x,c[x])"
   ]
  },
  {
   "cell_type": "code",
   "execution_count": 118,
   "id": "3ac29581-3403-4b07-bfe9-be2b3d9867cb",
   "metadata": {},
   "outputs": [
    {
     "name": "stdout",
     "output_type": "stream",
     "text": [
      "a A\n",
      "b B\n",
      "c C\n"
     ]
    }
   ],
   "source": [
    "f(a = \"A\",b = \"B\",c = \"C\")"
   ]
  },
  {
   "cell_type": "code",
   "execution_count": 119,
   "id": "bba4ccac-588a-4b4a-8c83-6aeba9d634b5",
   "metadata": {},
   "outputs": [],
   "source": [
    "def m(m1,m2,m3):\n",
    "    print(m1,m2,m3)"
   ]
  },
  {
   "cell_type": "code",
   "execution_count": 120,
   "id": "e174cd30-9239-4ac4-9b7b-ec2761b19a62",
   "metadata": {},
   "outputs": [
    {
     "name": "stdout",
     "output_type": "stream",
     "text": [
      "v N B\n"
     ]
    }
   ],
   "source": [
    "m(m3=\"B\",m1 =\"v\",m2=\"N\")"
   ]
  },
  {
   "cell_type": "markdown",
   "id": "6cb4aeb8-3f03-4470-94b1-0bd66bd9f679",
   "metadata": {},
   "source": [
    "## Modules"
   ]
  },
  {
   "cell_type": "code",
   "execution_count": 139,
   "id": "90757174-b0b0-4731-81ee-65f12be82335",
   "metadata": {},
   "outputs": [],
   "source": [
    "# Should work if the file is saved as myfuncs.py\n",
    "\n",
    "import sys\n",
    "sys.path.append('C:/Users/VIOLET/Downloads/')\n",
    "import myfuncs as mf"
   ]
  },
  {
   "cell_type": "code",
   "execution_count": 140,
   "id": "b992f07d-c704-419a-ab3f-de9d6673ef46",
   "metadata": {},
   "outputs": [
    {
     "name": "stdout",
     "output_type": "stream",
     "text": [
      "1\n",
      "3\n",
      "5\n",
      "7\n"
     ]
    }
   ],
   "source": [
    "mf.printList([1,3,5,7])"
   ]
  },
  {
   "cell_type": "code",
   "execution_count": 141,
   "id": "dd701135-99f6-423e-8e48-c4c014996e82",
   "metadata": {},
   "outputs": [
    {
     "data": {
      "text/plain": [
       "\u001b[1;31mSignature:\u001b[0m \u001b[0mmf\u001b[0m\u001b[1;33m.\u001b[0m\u001b[0mprintList\u001b[0m\u001b[1;33m(\u001b[0m\u001b[0mL\u001b[0m\u001b[1;33m=\u001b[0m\u001b[1;33m[\u001b[0m\u001b[1;33m]\u001b[0m\u001b[1;33m)\u001b[0m\u001b[1;33m\u001b[0m\u001b[1;33m\u001b[0m\u001b[0m\n",
       "\u001b[1;31mDocstring:\u001b[0m\n",
       "This function prints the list elements\n",
       "The input is a list and default is an empty list\n",
       "\u001b[1;31mFile:\u001b[0m      c:\\users\\violet\\downloads\\ml\\myfuncs.py\n",
       "\u001b[1;31mType:\u001b[0m      function"
      ]
     },
     "metadata": {},
     "output_type": "display_data"
    }
   ],
   "source": [
    "mf.printList?"
   ]
  },
  {
   "cell_type": "code",
   "execution_count": 142,
   "id": "7337677e-4503-40bc-ae83-746a7636540a",
   "metadata": {},
   "outputs": [
    {
     "name": "stdout",
     "output_type": "stream",
     "text": [
      "Helloo\n"
     ]
    }
   ],
   "source": [
    "mf.printMe('Helloo')"
   ]
  },
  {
   "cell_type": "code",
   "execution_count": 143,
   "id": "c1cdf2e2-a53a-47a3-b0f1-82a77aabc53f",
   "metadata": {},
   "outputs": [
    {
     "name": "stdout",
     "output_type": "stream",
     "text": [
      "No message was supplied\n"
     ]
    }
   ],
   "source": [
    "mf.printMe()"
   ]
  },
  {
   "cell_type": "markdown",
   "id": "04a89b77-f9cb-4138-8f44-7305c6617a87",
   "metadata": {},
   "source": [
    "## Numpy"
   ]
  },
  {
   "cell_type": "code",
   "execution_count": 1,
   "id": "10d01d92-1cf9-4cb8-b471-cb7991feba6a",
   "metadata": {},
   "outputs": [],
   "source": [
    "import numpy as np"
   ]
  },
  {
   "cell_type": "code",
   "execution_count": 2,
   "id": "18becab7-ae67-49aa-b701-5e79753e1643",
   "metadata": {},
   "outputs": [
    {
     "name": "stdout",
     "output_type": "stream",
     "text": [
      "1.24.3\n"
     ]
    }
   ],
   "source": [
    "print(np.__version__)"
   ]
  },
  {
   "cell_type": "code",
   "execution_count": 3,
   "id": "6af49448-9d1f-48c6-9bac-ecc4d525bd55",
   "metadata": {},
   "outputs": [],
   "source": [
    "A = np.array([1,3,5,7])"
   ]
  },
  {
   "cell_type": "code",
   "execution_count": 4,
   "id": "7b6db4c6-e29c-43d3-936f-f76585c19bc9",
   "metadata": {},
   "outputs": [
    {
     "data": {
      "text/plain": [
       "array([1, 3, 5, 7])"
      ]
     },
     "execution_count": 4,
     "metadata": {},
     "output_type": "execute_result"
    }
   ],
   "source": [
    "A"
   ]
  },
  {
   "cell_type": "code",
   "execution_count": 5,
   "id": "3853e6dc-b116-4ede-8e86-ed45481adc41",
   "metadata": {},
   "outputs": [
    {
     "data": {
      "text/plain": [
       "dtype('int32')"
      ]
     },
     "execution_count": 5,
     "metadata": {},
     "output_type": "execute_result"
    }
   ],
   "source": [
    "A.dtype"
   ]
  },
  {
   "cell_type": "code",
   "execution_count": 6,
   "id": "c2d5b803-945a-4ab2-94ab-82bb1c10c274",
   "metadata": {},
   "outputs": [],
   "source": [
    "A[0] = 9.5"
   ]
  },
  {
   "cell_type": "code",
   "execution_count": 7,
   "id": "2e082cfe-a8cf-477d-8493-3d72e13b8e57",
   "metadata": {},
   "outputs": [
    {
     "data": {
      "text/plain": [
       "9"
      ]
     },
     "execution_count": 7,
     "metadata": {},
     "output_type": "execute_result"
    }
   ],
   "source": [
    "A[0]"
   ]
  },
  {
   "cell_type": "code",
   "execution_count": 8,
   "id": "ce2fed78-a8f8-4673-9944-e9f5d441d1c5",
   "metadata": {},
   "outputs": [
    {
     "data": {
      "text/plain": [
       "1"
      ]
     },
     "execution_count": 8,
     "metadata": {},
     "output_type": "execute_result"
    }
   ],
   "source": [
    "A.ndim"
   ]
  },
  {
   "cell_type": "code",
   "execution_count": 9,
   "id": "3e759380-ede2-4ed6-97a1-2e8b907bbb5a",
   "metadata": {},
   "outputs": [],
   "source": [
    "B = np.array([[1,2,3,4],[5,6,7,8]])"
   ]
  },
  {
   "cell_type": "code",
   "execution_count": 10,
   "id": "b9e388ee-c56f-418a-9e78-d7ec3830ced6",
   "metadata": {},
   "outputs": [
    {
     "data": {
      "text/plain": [
       "2"
      ]
     },
     "execution_count": 10,
     "metadata": {},
     "output_type": "execute_result"
    }
   ],
   "source": [
    "B.ndim"
   ]
  },
  {
   "cell_type": "code",
   "execution_count": 11,
   "id": "d4228137-fabb-42d4-be74-dfcab07ea3a9",
   "metadata": {},
   "outputs": [],
   "source": [
    "C = np.array([[[1,2,3.2],[4.5,5,6],[7,8,9.2]],[[10,20,30],[12,24,36],[11,22,33]]])"
   ]
  },
  {
   "cell_type": "code",
   "execution_count": 12,
   "id": "468c8d8a-944e-4eba-ae5f-37d5df8b0dad",
   "metadata": {},
   "outputs": [
    {
     "data": {
      "text/plain": [
       "array([[[ 1. ,  2. ,  3.2],\n",
       "        [ 4.5,  5. ,  6. ],\n",
       "        [ 7. ,  8. ,  9.2]],\n",
       "\n",
       "       [[10. , 20. , 30. ],\n",
       "        [12. , 24. , 36. ],\n",
       "        [11. , 22. , 33. ]]])"
      ]
     },
     "execution_count": 12,
     "metadata": {},
     "output_type": "execute_result"
    }
   ],
   "source": [
    "C"
   ]
  },
  {
   "cell_type": "code",
   "execution_count": 13,
   "id": "e832c47b-8143-4df0-85f8-509fcbd36f69",
   "metadata": {},
   "outputs": [
    {
     "data": {
      "text/plain": [
       "3"
      ]
     },
     "execution_count": 13,
     "metadata": {},
     "output_type": "execute_result"
    }
   ],
   "source": [
    "C.ndim"
   ]
  },
  {
   "cell_type": "code",
   "execution_count": 14,
   "id": "de993677-309b-41fb-b2b7-9a0b9f9e7aa6",
   "metadata": {},
   "outputs": [
    {
     "data": {
      "text/plain": [
       "(2, 3, 3)"
      ]
     },
     "execution_count": 14,
     "metadata": {},
     "output_type": "execute_result"
    }
   ],
   "source": [
    "C.shape"
   ]
  },
  {
   "cell_type": "code",
   "execution_count": 15,
   "id": "4f8b96d9-f881-4e18-9b1e-085177ffe4d6",
   "metadata": {},
   "outputs": [
    {
     "data": {
      "text/plain": [
       "3"
      ]
     },
     "execution_count": 15,
     "metadata": {},
     "output_type": "execute_result"
    }
   ],
   "source": [
    "C.shape[2]"
   ]
  },
  {
   "cell_type": "code",
   "execution_count": 16,
   "id": "e89125b6-0067-4494-b903-447a5961f82e",
   "metadata": {},
   "outputs": [
    {
     "name": "stdout",
     "output_type": "stream",
     "text": [
      "[[10. 20. 30.]\n",
      " [12. 24. 36.]\n",
      " [11. 22. 33.]]\n"
     ]
    }
   ],
   "source": [
    "print(C[1])"
   ]
  },
  {
   "cell_type": "code",
   "execution_count": 17,
   "id": "ef87a934-fc18-4239-9aa7-3886ceacaaca",
   "metadata": {},
   "outputs": [
    {
     "data": {
      "text/plain": [
       "33.0"
      ]
     },
     "execution_count": 17,
     "metadata": {},
     "output_type": "execute_result"
    }
   ],
   "source": [
    "C[1,2,2]"
   ]
  },
  {
   "cell_type": "code",
   "execution_count": 18,
   "id": "99a7a201-9c8a-4140-81ce-55f314ef258e",
   "metadata": {},
   "outputs": [],
   "source": [
    "V=np.arange(10)"
   ]
  },
  {
   "cell_type": "code",
   "execution_count": 19,
   "id": "dfef5862-5705-434c-ad65-91242e521ecb",
   "metadata": {},
   "outputs": [
    {
     "data": {
      "text/plain": [
       "array([0, 1, 2, 3, 4, 5, 6, 7, 8, 9])"
      ]
     },
     "execution_count": 19,
     "metadata": {},
     "output_type": "execute_result"
    }
   ],
   "source": [
    "V"
   ]
  },
  {
   "cell_type": "code",
   "execution_count": 20,
   "id": "d6310795-dd33-4090-883b-657884b181d9",
   "metadata": {},
   "outputs": [
    {
     "data": {
      "text/plain": [
       "8"
      ]
     },
     "execution_count": 20,
     "metadata": {},
     "output_type": "execute_result"
    }
   ],
   "source": [
    "V[-2]"
   ]
  },
  {
   "cell_type": "code",
   "execution_count": 21,
   "id": "dee577d2-15c1-498d-a1ac-3146862ae7e5",
   "metadata": {},
   "outputs": [
    {
     "data": {
      "text/plain": [
       "array([2, 3, 4, 5])"
      ]
     },
     "execution_count": 21,
     "metadata": {},
     "output_type": "execute_result"
    }
   ],
   "source": [
    "V[2:6] #prints elements from index 2 to 6,except 6"
   ]
  },
  {
   "cell_type": "code",
   "execution_count": 22,
   "id": "11536d70-bf64-4dd4-b5af-f772ba837f02",
   "metadata": {},
   "outputs": [
    {
     "data": {
      "text/plain": [
       "array([9, 8, 7, 6, 5, 4, 3, 2, 1, 0])"
      ]
     },
     "execution_count": 22,
     "metadata": {},
     "output_type": "execute_result"
    }
   ],
   "source": [
    "V[::-1] #reverses the elements in the array"
   ]
  },
  {
   "cell_type": "code",
   "execution_count": 23,
   "id": "1ee63288-54df-4e60-91a1-881e642e4f51",
   "metadata": {},
   "outputs": [
    {
     "data": {
      "text/plain": [
       "array([0, 2, 4, 6, 8])"
      ]
     },
     "execution_count": 23,
     "metadata": {},
     "output_type": "execute_result"
    }
   ],
   "source": [
    "V[::2] #picks every second element"
   ]
  },
  {
   "cell_type": "code",
   "execution_count": 24,
   "id": "19fd3e81-e8d4-4ef6-bd7f-1832b52e2c17",
   "metadata": {},
   "outputs": [
    {
     "data": {
      "text/plain": [
       "array([2, 3, 4, 5, 6, 7, 8, 9])"
      ]
     },
     "execution_count": 24,
     "metadata": {},
     "output_type": "execute_result"
    }
   ],
   "source": [
    "V[2:] #prints elements from index 2 till the last,including the last element"
   ]
  },
  {
   "cell_type": "code",
   "execution_count": 25,
   "id": "2e9d2b8f-bd93-42fa-bcea-61d3c6f454ae",
   "metadata": {},
   "outputs": [
    {
     "data": {
      "text/plain": [
       "array([0, 1, 2, 3, 4])"
      ]
     },
     "execution_count": 25,
     "metadata": {},
     "output_type": "execute_result"
    }
   ],
   "source": [
    "V[:5] #prints all elements upto the element in index 5,except element in index 5"
   ]
  },
  {
   "cell_type": "code",
   "execution_count": 26,
   "id": "d4ba1965-abf8-4c48-a365-9a85bdf93037",
   "metadata": {},
   "outputs": [],
   "source": [
    "W=np.random.permutation(np.arange(10))"
   ]
  },
  {
   "cell_type": "code",
   "execution_count": 27,
   "id": "4809245e-4617-480b-9e9b-3edce743fe63",
   "metadata": {},
   "outputs": [
    {
     "data": {
      "text/plain": [
       "array([7, 1, 3, 2, 6, 9, 0, 4, 8, 5])"
      ]
     },
     "execution_count": 27,
     "metadata": {},
     "output_type": "execute_result"
    }
   ],
   "source": [
    "W"
   ]
  },
  {
   "cell_type": "code",
   "execution_count": 31,
   "id": "80a524c2-3ee7-4029-ae87-731077c67eeb",
   "metadata": {},
   "outputs": [
    {
     "data": {
      "text/plain": [
       "array([3, 6, 5])"
      ]
     },
     "execution_count": 31,
     "metadata": {},
     "output_type": "execute_result"
    }
   ],
   "source": [
    "W[[2,4,9]] #Array indexing"
   ]
  },
  {
   "cell_type": "code",
   "execution_count": 32,
   "id": "609ce4d6-000f-4232-beb3-f492a32b8983",
   "metadata": {},
   "outputs": [
    {
     "data": {
      "text/plain": [
       "array([7, 1, 2, 0, 8])"
      ]
     },
     "execution_count": 32,
     "metadata": {},
     "output_type": "execute_result"
    }
   ],
   "source": [
    "W[[True,True,False,True,False,False,True,False,True,False]]"
   ]
  },
  {
   "cell_type": "code",
   "execution_count": 33,
   "id": "e5c44cdf-d239-49e0-a3a4-a2365e6b341c",
   "metadata": {},
   "outputs": [
    {
     "data": {
      "text/plain": [
       "array([1, 3, 2, 0])"
      ]
     },
     "execution_count": 33,
     "metadata": {},
     "output_type": "execute_result"
    }
   ],
   "source": [
    "W[W<4]"
   ]
  },
  {
   "cell_type": "code",
   "execution_count": 35,
   "id": "eaa662d4-9c30-4a0c-8758-f0ee826e30f2",
   "metadata": {},
   "outputs": [
    {
     "data": {
      "text/plain": [
       "True"
      ]
     },
     "execution_count": 35,
     "metadata": {},
     "output_type": "execute_result"
    }
   ],
   "source": [
    "W.any()"
   ]
  },
  {
   "cell_type": "code",
   "execution_count": 36,
   "id": "07a5b5e1-0d50-40e3-9f23-25aee1320f30",
   "metadata": {},
   "outputs": [
    {
     "data": {
      "text/plain": [
       "False"
      ]
     },
     "execution_count": 36,
     "metadata": {},
     "output_type": "execute_result"
    }
   ],
   "source": [
    "W.all()"
   ]
  },
  {
   "cell_type": "code",
   "execution_count": 39,
   "id": "e8ab8dde-fbf4-4f2d-92d8-1a12edf68d93",
   "metadata": {},
   "outputs": [
    {
     "name": "stdout",
     "output_type": "stream",
     "text": [
      "1.29 ms ± 73.3 µs per loop (mean ± std. dev. of 7 runs, 1,000 loops each)\n"
     ]
    }
   ],
   "source": [
    "Z=np.random.rand(1000000)\n",
    "%timeit np.sum(Z)"
   ]
  },
  {
   "cell_type": "code",
   "execution_count": 40,
   "id": "10c26ead-36e2-40d5-8fd6-1856688b0569",
   "metadata": {},
   "outputs": [
    {
     "name": "stdout",
     "output_type": "stream",
     "text": [
      "1.34 ms ± 96.7 µs per loop (mean ± std. dev. of 7 runs, 1,000 loops each)\n"
     ]
    }
   ],
   "source": [
    "%timeit Z.sum()"
   ]
  },
  {
   "cell_type": "code",
   "execution_count": 41,
   "id": "642d3fab-525a-4868-9d5f-7a3fa1573d63",
   "metadata": {},
   "outputs": [
    {
     "name": "stdout",
     "output_type": "stream",
     "text": [
      "103 ms ± 3.07 ms per loop (mean ± std. dev. of 7 runs, 10 loops each)\n"
     ]
    }
   ],
   "source": [
    "%timeit sum(Z)"
   ]
  },
  {
   "cell_type": "code",
   "execution_count": 42,
   "id": "0c33f89b-7643-460d-aed4-dede80b7a7b3",
   "metadata": {},
   "outputs": [
    {
     "name": "stdout",
     "output_type": "stream",
     "text": [
      "128 ms ± 6.16 ms per loop (mean ± std. dev. of 7 runs, 1 loop each)\n"
     ]
    }
   ],
   "source": [
    "%%timeit\n",
    "s=0\n",
    "for x in Z:\n",
    "    s+=x"
   ]
  },
  {
   "cell_type": "code",
   "execution_count": null,
   "id": "6bbedec7-4a22-4c28-9530-d8cb4b89c431",
   "metadata": {},
   "outputs": [],
   "source": []
  }
 ],
 "metadata": {
  "kernelspec": {
   "display_name": "Python 3 (ipykernel)",
   "language": "python",
   "name": "python3"
  },
  "language_info": {
   "codemirror_mode": {
    "name": "ipython",
    "version": 3
   },
   "file_extension": ".py",
   "mimetype": "text/x-python",
   "name": "python",
   "nbconvert_exporter": "python",
   "pygments_lexer": "ipython3",
   "version": "3.11.4"
  }
 },
 "nbformat": 4,
 "nbformat_minor": 5
}
